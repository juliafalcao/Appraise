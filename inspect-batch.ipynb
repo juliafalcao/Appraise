{
 "cells": [
  {
   "cell_type": "code",
   "execution_count": 31,
   "metadata": {},
   "outputs": [],
   "source": [
    "import pandas as pd\n",
    "import json"
   ]
  },
  {
   "cell_type": "code",
   "execution_count": 32,
   "metadata": {},
   "outputs": [],
   "source": [
    "filepath = \"/netscratch/falcao/data/appraise-batches/es-eu/batches.json\"\n",
    "with open(filepath, mode=\"r\") as f:\n",
    "    j = json.load(f)"
   ]
  },
  {
   "cell_type": "code",
   "execution_count": 43,
   "metadata": {},
   "outputs": [
    {
     "data": {
      "text/plain": [
       "{'batchNo': 1,\n",
       " 'batchSize': 100,\n",
       " 'randomSeed': 123456,\n",
       " 'requiredAnnotations': 1,\n",
       " 'sourceLanguage': 'spa',\n",
       " 'targetLanguage': 'eus'}"
      ]
     },
     "execution_count": 43,
     "metadata": {},
     "output_type": "execute_result"
    }
   ],
   "source": [
    "j[0][\"task\"]"
   ]
  },
  {
   "cell_type": "code",
   "execution_count": 33,
   "metadata": {},
   "outputs": [],
   "source": [
    "dfs = []\n",
    "for batch_json in j:\n",
    "    _df = pd.DataFrame(batch_json[\"items\"])\n",
    "    _df[\"_batchNo\"] = batch_json[\"task\"][\"batchNo\"]\n",
    "    dfs.append(_df)\n",
    "\n",
    "df = pd.concat(dfs)\n",
    "df = df[[\"_batchNo\", *df.columns[:-1]]]"
   ]
  },
  {
   "cell_type": "code",
   "execution_count": 34,
   "metadata": {},
   "outputs": [
    {
     "name": "stdout",
     "output_type": "stream",
     "text": [
      "total items: 800\n"
     ]
    }
   ],
   "source": [
    "print(\"total items:\", len(df))"
   ]
  },
  {
   "cell_type": "code",
   "execution_count": 35,
   "metadata": {},
   "outputs": [
    {
     "data": {
      "text/html": [
       "<div>\n",
       "<style scoped>\n",
       "    .dataframe tbody tr th:only-of-type {\n",
       "        vertical-align: middle;\n",
       "    }\n",
       "\n",
       "    .dataframe tbody tr th {\n",
       "        vertical-align: top;\n",
       "    }\n",
       "\n",
       "    .dataframe thead th {\n",
       "        text-align: right;\n",
       "    }\n",
       "</style>\n",
       "<table border=\"1\" class=\"dataframe\">\n",
       "  <thead>\n",
       "    <tr style=\"text-align: right;\">\n",
       "      <th></th>\n",
       "      <th>_batchNo</th>\n",
       "      <th>_block</th>\n",
       "      <th>_item</th>\n",
       "      <th>itemID</th>\n",
       "      <th>itemType</th>\n",
       "      <th>sourceID</th>\n",
       "      <th>sourceText</th>\n",
       "      <th>targetID</th>\n",
       "      <th>targetText</th>\n",
       "    </tr>\n",
       "  </thead>\n",
       "  <tbody>\n",
       "    <tr>\n",
       "      <th>8</th>\n",
       "      <td>1</td>\n",
       "      <td>0</td>\n",
       "      <td>8</td>\n",
       "      <td>36</td>\n",
       "      <td>TGT</td>\n",
       "      <td>src.es</td>\n",
       "      <td>A lo largo de toda la semana, todos los niños,...</td>\n",
       "      <td>mstrans-fake.txt</td>\n",
       "      <td>[mstrans] Aste osoan zehar, 6 eta 14 urte bita...</td>\n",
       "    </tr>\n",
       "    <tr>\n",
       "      <th>10</th>\n",
       "      <td>6</td>\n",
       "      <td>51</td>\n",
       "      <td>10</td>\n",
       "      <td>51</td>\n",
       "      <td>TGT</td>\n",
       "      <td>src.es</td>\n",
       "      <td>A nuestros pies la menta se acostaba y las ave...</td>\n",
       "      <td>mstrans-fake.txt</td>\n",
       "      <td>[mstrans] Geure oinetara menda belarra oheratz...</td>\n",
       "    </tr>\n",
       "    <tr>\n",
       "      <th>75</th>\n",
       "      <td>2</td>\n",
       "      <td>17</td>\n",
       "      <td>75</td>\n",
       "      <td>287</td>\n",
       "      <td>TGT</td>\n",
       "      <td>src.es</td>\n",
       "      <td>Ya que por sus errores, tuve que descuidar mi ...</td>\n",
       "      <td>gtrans-fake.txt</td>\n",
       "      <td>[gtrans] Bere erruengatik, neure operazioa utz...</td>\n",
       "    </tr>\n",
       "    <tr>\n",
       "      <th>35</th>\n",
       "      <td>8</td>\n",
       "      <td>73</td>\n",
       "      <td>35</td>\n",
       "      <td>259</td>\n",
       "      <td>TGT</td>\n",
       "      <td>src.es</td>\n",
       "      <td>Si sabes cómo inspirar o caminar en plena cons...</td>\n",
       "      <td>gtrans-fake.txt</td>\n",
       "      <td>[gtrans] Arreta osoz arnasten edo ibiltzen bad...</td>\n",
       "    </tr>\n",
       "    <tr>\n",
       "      <th>42</th>\n",
       "      <td>3</td>\n",
       "      <td>24</td>\n",
       "      <td>42</td>\n",
       "      <td>166</td>\n",
       "      <td>TGT</td>\n",
       "      <td>src.es</td>\n",
       "      <td>Es un punto de vista muy extremo, pero resalta...</td>\n",
       "      <td>mstrans-fake.txt</td>\n",
       "      <td>[mstrans] Muturreko ikuspuntua da, baina eraku...</td>\n",
       "    </tr>\n",
       "  </tbody>\n",
       "</table>\n",
       "</div>"
      ],
      "text/plain": [
       "    _batchNo  _block  _item  itemID itemType sourceID  \\\n",
       "8          1       0      8      36      TGT   src.es   \n",
       "10         6      51     10      51      TGT   src.es   \n",
       "75         2      17     75     287      TGT   src.es   \n",
       "35         8      73     35     259      TGT   src.es   \n",
       "42         3      24     42     166      TGT   src.es   \n",
       "\n",
       "                                           sourceText          targetID  \\\n",
       "8   A lo largo de toda la semana, todos los niños,...  mstrans-fake.txt   \n",
       "10  A nuestros pies la menta se acostaba y las ave...  mstrans-fake.txt   \n",
       "75  Ya que por sus errores, tuve que descuidar mi ...   gtrans-fake.txt   \n",
       "35  Si sabes cómo inspirar o caminar en plena cons...   gtrans-fake.txt   \n",
       "42  Es un punto de vista muy extremo, pero resalta...  mstrans-fake.txt   \n",
       "\n",
       "                                           targetText  \n",
       "8   [mstrans] Aste osoan zehar, 6 eta 14 urte bita...  \n",
       "10  [mstrans] Geure oinetara menda belarra oheratz...  \n",
       "75  [gtrans] Bere erruengatik, neure operazioa utz...  \n",
       "35  [gtrans] Arreta osoz arnasten edo ibiltzen bad...  \n",
       "42  [mstrans] Muturreko ikuspuntua da, baina eraku...  "
      ]
     },
     "execution_count": 35,
     "metadata": {},
     "output_type": "execute_result"
    }
   ],
   "source": [
    "df.sample(5, random_state=1)"
   ]
  },
  {
   "cell_type": "code",
   "execution_count": 36,
   "metadata": {},
   "outputs": [
    {
     "data": {
      "text/html": [
       "<div>\n",
       "<style scoped>\n",
       "    .dataframe tbody tr th:only-of-type {\n",
       "        vertical-align: middle;\n",
       "    }\n",
       "\n",
       "    .dataframe tbody tr th {\n",
       "        vertical-align: top;\n",
       "    }\n",
       "\n",
       "    .dataframe thead th {\n",
       "        text-align: right;\n",
       "    }\n",
       "</style>\n",
       "<table border=\"1\" class=\"dataframe\">\n",
       "  <thead>\n",
       "    <tr style=\"text-align: right;\">\n",
       "      <th></th>\n",
       "      <th>_batchNo</th>\n",
       "      <th>_block</th>\n",
       "      <th>_item</th>\n",
       "      <th>itemID</th>\n",
       "      <th>itemType</th>\n",
       "      <th>sourceID</th>\n",
       "      <th>sourceText</th>\n",
       "      <th>targetID</th>\n",
       "      <th>targetText</th>\n",
       "    </tr>\n",
       "  </thead>\n",
       "  <tbody>\n",
       "    <tr>\n",
       "      <th>28</th>\n",
       "      <td>4</td>\n",
       "      <td>32</td>\n",
       "      <td>28</td>\n",
       "      <td>1</td>\n",
       "      <td>TGT</td>\n",
       "      <td>src.es</td>\n",
       "      <td>A comienzos de los años ochenta surgieron los ...</td>\n",
       "      <td>gtrans-fake.txt</td>\n",
       "      <td>[gtrans] 80ko hamarkadaren hasieran, giza ahal...</td>\n",
       "    </tr>\n",
       "    <tr>\n",
       "      <th>38</th>\n",
       "      <td>3</td>\n",
       "      <td>23</td>\n",
       "      <td>38</td>\n",
       "      <td>1</td>\n",
       "      <td>TGT</td>\n",
       "      <td>src.es</td>\n",
       "      <td>A comienzos de los años ochenta surgieron los ...</td>\n",
       "      <td>mstrans-fake.txt</td>\n",
       "      <td>[mstrans] 80ko hamarkadaren hasieran, giza aha...</td>\n",
       "    </tr>\n",
       "    <tr>\n",
       "      <th>26</th>\n",
       "      <td>6</td>\n",
       "      <td>52</td>\n",
       "      <td>26</td>\n",
       "      <td>2</td>\n",
       "      <td>TGT</td>\n",
       "      <td>src.es</td>\n",
       "      <td>A considerar cada hombre por las acciones y de...</td>\n",
       "      <td>gtrans-fake.txt</td>\n",
       "      <td>[gtrans] Nork ere aipatuko baikaitu gure ekint...</td>\n",
       "    </tr>\n",
       "    <tr>\n",
       "      <th>78</th>\n",
       "      <td>5</td>\n",
       "      <td>47</td>\n",
       "      <td>78</td>\n",
       "      <td>2</td>\n",
       "      <td>TGT</td>\n",
       "      <td>src.es</td>\n",
       "      <td>A considerar cada hombre por las acciones y de...</td>\n",
       "      <td>mstrans-fake.txt</td>\n",
       "      <td>[mstrans] Nork ere aipatuko baikaitu gure ekin...</td>\n",
       "    </tr>\n",
       "    <tr>\n",
       "      <th>99</th>\n",
       "      <td>3</td>\n",
       "      <td>29</td>\n",
       "      <td>99</td>\n",
       "      <td>3</td>\n",
       "      <td>TGT</td>\n",
       "      <td>src.es</td>\n",
       "      <td>A continuación vienen otros más relacionados c...</td>\n",
       "      <td>gtrans-fake.txt</td>\n",
       "      <td>[gtrans] Jarraian datoz beste batzuk, gehiago ...</td>\n",
       "    </tr>\n",
       "    <tr>\n",
       "      <th>...</th>\n",
       "      <td>...</td>\n",
       "      <td>...</td>\n",
       "      <td>...</td>\n",
       "      <td>...</td>\n",
       "      <td>...</td>\n",
       "      <td>...</td>\n",
       "      <td>...</td>\n",
       "      <td>...</td>\n",
       "      <td>...</td>\n",
       "    </tr>\n",
       "    <tr>\n",
       "      <th>95</th>\n",
       "      <td>2</td>\n",
       "      <td>19</td>\n",
       "      <td>95</td>\n",
       "      <td>286</td>\n",
       "      <td>TGT</td>\n",
       "      <td>src.es</td>\n",
       "      <td>Vivamos en un planeta lleno de vegetación exub...</td>\n",
       "      <td>mstrans-fake.txt</td>\n",
       "      <td>[mstrans] Bizi gaitezen luxuzko landaretzadun ...</td>\n",
       "    </tr>\n",
       "    <tr>\n",
       "      <th>75</th>\n",
       "      <td>2</td>\n",
       "      <td>17</td>\n",
       "      <td>75</td>\n",
       "      <td>287</td>\n",
       "      <td>TGT</td>\n",
       "      <td>src.es</td>\n",
       "      <td>Ya que por sus errores, tuve que descuidar mi ...</td>\n",
       "      <td>gtrans-fake.txt</td>\n",
       "      <td>[gtrans] Bere erruengatik, neure operazioa utz...</td>\n",
       "    </tr>\n",
       "    <tr>\n",
       "      <th>51</th>\n",
       "      <td>5</td>\n",
       "      <td>45</td>\n",
       "      <td>51</td>\n",
       "      <td>287</td>\n",
       "      <td>TGT</td>\n",
       "      <td>src.es</td>\n",
       "      <td>Ya que por sus errores, tuve que descuidar mi ...</td>\n",
       "      <td>mstrans-fake.txt</td>\n",
       "      <td>[mstrans] Bere erruengatik, neure operazioa ut...</td>\n",
       "    </tr>\n",
       "    <tr>\n",
       "      <th>89</th>\n",
       "      <td>3</td>\n",
       "      <td>28</td>\n",
       "      <td>89</td>\n",
       "      <td>288</td>\n",
       "      <td>TGT</td>\n",
       "      <td>src.es</td>\n",
       "      <td>Yo era un estudiante en los años 60, una época...</td>\n",
       "      <td>gtrans-fake.txt</td>\n",
       "      <td>[gtrans] Ikaslea nintzen 60ko hamarkadan, giza...</td>\n",
       "    </tr>\n",
       "    <tr>\n",
       "      <th>71</th>\n",
       "      <td>1</td>\n",
       "      <td>7</td>\n",
       "      <td>71</td>\n",
       "      <td>288</td>\n",
       "      <td>TGT</td>\n",
       "      <td>src.es</td>\n",
       "      <td>Yo era un estudiante en los años 60, una época...</td>\n",
       "      <td>mstrans-fake.txt</td>\n",
       "      <td>[mstrans] Ikaslea nintzen 60ko hamarkadan, giz...</td>\n",
       "    </tr>\n",
       "  </tbody>\n",
       "</table>\n",
       "<p>640 rows × 9 columns</p>\n",
       "</div>"
      ],
      "text/plain": [
       "    _batchNo  _block  _item  itemID itemType sourceID  \\\n",
       "28         4      32     28       1      TGT   src.es   \n",
       "38         3      23     38       1      TGT   src.es   \n",
       "26         6      52     26       2      TGT   src.es   \n",
       "78         5      47     78       2      TGT   src.es   \n",
       "99         3      29     99       3      TGT   src.es   \n",
       "..       ...     ...    ...     ...      ...      ...   \n",
       "95         2      19     95     286      TGT   src.es   \n",
       "75         2      17     75     287      TGT   src.es   \n",
       "51         5      45     51     287      TGT   src.es   \n",
       "89         3      28     89     288      TGT   src.es   \n",
       "71         1       7     71     288      TGT   src.es   \n",
       "\n",
       "                                           sourceText          targetID  \\\n",
       "28  A comienzos de los años ochenta surgieron los ...   gtrans-fake.txt   \n",
       "38  A comienzos de los años ochenta surgieron los ...  mstrans-fake.txt   \n",
       "26  A considerar cada hombre por las acciones y de...   gtrans-fake.txt   \n",
       "78  A considerar cada hombre por las acciones y de...  mstrans-fake.txt   \n",
       "99  A continuación vienen otros más relacionados c...   gtrans-fake.txt   \n",
       "..                                                ...               ...   \n",
       "95  Vivamos en un planeta lleno de vegetación exub...  mstrans-fake.txt   \n",
       "75  Ya que por sus errores, tuve que descuidar mi ...   gtrans-fake.txt   \n",
       "51  Ya que por sus errores, tuve que descuidar mi ...  mstrans-fake.txt   \n",
       "89  Yo era un estudiante en los años 60, una época...   gtrans-fake.txt   \n",
       "71  Yo era un estudiante en los años 60, una época...  mstrans-fake.txt   \n",
       "\n",
       "                                           targetText  \n",
       "28  [gtrans] 80ko hamarkadaren hasieran, giza ahal...  \n",
       "38  [mstrans] 80ko hamarkadaren hasieran, giza aha...  \n",
       "26  [gtrans] Nork ere aipatuko baikaitu gure ekint...  \n",
       "78  [mstrans] Nork ere aipatuko baikaitu gure ekin...  \n",
       "99  [gtrans] Jarraian datoz beste batzuk, gehiago ...  \n",
       "..                                                ...  \n",
       "95  [mstrans] Bizi gaitezen luxuzko landaretzadun ...  \n",
       "75  [gtrans] Bere erruengatik, neure operazioa utz...  \n",
       "51  [mstrans] Bere erruengatik, neure operazioa ut...  \n",
       "89  [gtrans] Ikaslea nintzen 60ko hamarkadan, giza...  \n",
       "71  [mstrans] Ikaslea nintzen 60ko hamarkadan, giz...  \n",
       "\n",
       "[640 rows x 9 columns]"
      ]
     },
     "execution_count": 36,
     "metadata": {},
     "output_type": "execute_result"
    }
   ],
   "source": [
    "df[df.itemType == \"TGT\"].sort_values(\"sourceText\")"
   ]
  },
  {
   "cell_type": "code",
   "execution_count": 37,
   "metadata": {},
   "outputs": [
    {
     "name": "stdout",
     "output_type": "stream",
     "text": [
      "_block values: [ 0  1  2  3  4  5  6  7  8  9 10 11 12 13 14 15 16 17 18 19 20 21 22 23\n",
      " 24 25 26 27 28 29 30 31 32 33 34 35 36 37 38 39 40 41 42 43 44 45 46 47\n",
      " 48 49 50 51 52 53 54 55 56 57 58 59 60 61 62 63 64 65 66 67 68 69 70 71\n",
      " 72 73 74 75 76 77 78 79]\n"
     ]
    }
   ],
   "source": [
    "print(\"_block values:\", df._block.unique())"
   ]
  },
  {
   "cell_type": "code",
   "execution_count": 38,
   "metadata": {},
   "outputs": [
    {
     "name": "stdout",
     "output_type": "stream",
     "text": [
      "sourceID values: {'src.es'}\n"
     ]
    }
   ],
   "source": [
    "print(\"sourceID values:\", set(df.sourceID))\n",
    "assert len(set(df.sourceID)) == 1 # ? not sure"
   ]
  },
  {
   "cell_type": "code",
   "execution_count": 39,
   "metadata": {},
   "outputs": [
    {
     "name": "stdout",
     "output_type": "stream",
     "text": [
      "targetID values: ['gtrans-fake.txt', 'ref.eu', 'mstrans-fake.txt']\n"
     ]
    }
   ],
   "source": [
    "print(\"targetID values:\", df.targetID.unique().tolist())"
   ]
  },
  {
   "cell_type": "code",
   "execution_count": 40,
   "metadata": {},
   "outputs": [
    {
     "name": "stdout",
     "output_type": "stream",
     "text": [
      "itemType values: {'REF', 'TGT', 'BAD'}\n",
      "value counts:\n",
      "TGT    640\n",
      "BAD     80\n",
      "REF     80\n",
      "\n",
      "per batch:\n",
      "TGT    80\n",
      "BAD    10\n",
      "REF    10\n"
     ]
    }
   ],
   "source": [
    "print(\"itemType values:\", set(df.itemType))\n",
    "assert set(df.itemType) <= set([\"BAD\", \"CHK\", \"REF\", \"TGT\"])\n",
    "\n",
    "print(\"value counts:\")\n",
    "print(df.itemType.value_counts().to_string())\n",
    "print()\n",
    "\n",
    "print(\"per batch:\")\n",
    "_df = df[df._batchNo == 1]\n",
    "print(_df.itemType.value_counts().to_string())"
   ]
  }
 ],
 "metadata": {
  "kernelspec": {
   "display_name": "Python 3 (ipykernel)",
   "language": "python",
   "name": "python3"
  },
  "language_info": {
   "codemirror_mode": {
    "name": "ipython",
    "version": 3
   },
   "file_extension": ".py",
   "mimetype": "text/x-python",
   "name": "python",
   "nbconvert_exporter": "python",
   "pygments_lexer": "ipython3",
   "version": "3.10.6"
  },
  "orig_nbformat": 4
 },
 "nbformat": 4,
 "nbformat_minor": 2
}
