{
 "cells": [
  {
   "cell_type": "code",
   "execution_count": 46,
   "metadata": {},
   "outputs": [],
   "source": [
    "import sys\n",
    "sys.path.append(\"..\")\n",
    "sys.path.append(\"../experiments\")\n",
    "\n",
    "from experiments.constants import * \n",
    "from experiments.utils import *\n",
    "\n",
    "import pandas as pd\n",
    "import json"
   ]
  },
  {
   "cell_type": "code",
   "execution_count": 47,
   "metadata": {},
   "outputs": [],
   "source": [
    "SRC, TGT = ENGLISH, MALTESE"
   ]
  },
  {
   "cell_type": "code",
   "execution_count": 48,
   "metadata": {},
   "outputs": [],
   "source": [
    "batches_filepath = f\"/netscratch/falcao/data/{SRC}-{TGT}/eval-set/batches.{SRC}-{TGT}.json\"\n",
    "with open(filepath, mode=\"r\") as f:\n",
    "    j = json.load(f)"
   ]
  },
  {
   "cell_type": "code",
   "execution_count": 52,
   "metadata": {},
   "outputs": [],
   "source": [
    "df_filepath = f\"/netscratch/falcao/data/{SRC}-{TGT}/eval-set/df_eval.csv\"\n",
    "df_eval = pd.read_csv(df_filepath)"
   ]
  },
  {
   "cell_type": "code",
   "execution_count": 49,
   "metadata": {},
   "outputs": [],
   "source": [
    "dfs = []\n",
    "for batch_json in j:\n",
    "    _df = pd.DataFrame(batch_json[\"items\"])\n",
    "    _df[\"_batchNo\"] = batch_json[\"task\"][\"batchNo\"]\n",
    "    dfs.append(_df)\n",
    "\n",
    "df = pd.concat(dfs)\n",
    "df = df[[\"_batchNo\", *df.columns[:-1]]]"
   ]
  },
  {
   "cell_type": "code",
   "execution_count": 50,
   "metadata": {},
   "outputs": [
    {
     "name": "stdout",
     "output_type": "stream",
     "text": [
      "total items: 1600\n"
     ]
    }
   ],
   "source": [
    "print(\"total items:\", len(df))"
   ]
  },
  {
   "cell_type": "code",
   "execution_count": 44,
   "metadata": {},
   "outputs": [
    {
     "data": {
      "text/html": [
       "<div>\n",
       "<style scoped>\n",
       "    .dataframe tbody tr th:only-of-type {\n",
       "        vertical-align: middle;\n",
       "    }\n",
       "\n",
       "    .dataframe tbody tr th {\n",
       "        vertical-align: top;\n",
       "    }\n",
       "\n",
       "    .dataframe thead th {\n",
       "        text-align: right;\n",
       "    }\n",
       "</style>\n",
       "<table border=\"1\" class=\"dataframe\">\n",
       "  <thead>\n",
       "    <tr style=\"text-align: right;\">\n",
       "      <th></th>\n",
       "      <th>_batchNo</th>\n",
       "      <th>_block</th>\n",
       "      <th>_item</th>\n",
       "      <th>itemID</th>\n",
       "      <th>itemType</th>\n",
       "      <th>sourceID</th>\n",
       "      <th>sourceText</th>\n",
       "      <th>targetID</th>\n",
       "      <th>targetText</th>\n",
       "    </tr>\n",
       "  </thead>\n",
       "  <tbody>\n",
       "    <tr>\n",
       "      <th>75</th>\n",
       "      <td>1</td>\n",
       "      <td>7</td>\n",
       "      <td>75</td>\n",
       "      <td>322</td>\n",
       "      <td>TGT</td>\n",
       "      <td>src.en</td>\n",
       "      <td>Suits are standard business attire, and cowork...</td>\n",
       "      <td>kurt.mt</td>\n",
       "      <td>suits huma attire tan-negozju standard, u l-ko...</td>\n",
       "    </tr>\n",
       "    <tr>\n",
       "      <th>84</th>\n",
       "      <td>13</td>\n",
       "      <td>128</td>\n",
       "      <td>84</td>\n",
       "      <td>363</td>\n",
       "      <td>TGT</td>\n",
       "      <td>src.en</td>\n",
       "      <td>Men are naturally timid.</td>\n",
       "      <td>etranslate.mt</td>\n",
       "      <td>l-irġiel huma naturalment timida.</td>\n",
       "    </tr>\n",
       "    <tr>\n",
       "      <th>8</th>\n",
       "      <td>5</td>\n",
       "      <td>40</td>\n",
       "      <td>8</td>\n",
       "      <td>283</td>\n",
       "      <td>BAD</td>\n",
       "      <td>src.en</td>\n",
       "      <td>With 17,000 islands to choose from, Indonesian...</td>\n",
       "      <td>nllb.mt</td>\n",
       "      <td>which extends beyond a traveller's previous il...</td>\n",
       "    </tr>\n",
       "    <tr>\n",
       "      <th>82</th>\n",
       "      <td>13</td>\n",
       "      <td>128</td>\n",
       "      <td>82</td>\n",
       "      <td>390</td>\n",
       "      <td>TGT</td>\n",
       "      <td>src.en</td>\n",
       "      <td>Several large television screens were installe...</td>\n",
       "      <td>etranslate.mt</td>\n",
       "      <td>Diversi skrins tat-televiżjoni kbar ġew instal...</td>\n",
       "    </tr>\n",
       "    <tr>\n",
       "      <th>47</th>\n",
       "      <td>15</td>\n",
       "      <td>144</td>\n",
       "      <td>47</td>\n",
       "      <td>216</td>\n",
       "      <td>TGT</td>\n",
       "      <td>src.en</td>\n",
       "      <td>Eventually, after thousands or even millions o...</td>\n",
       "      <td>nllb.mt</td>\n",
       "      <td>Fl- aħħar, wara eluf jew anke miljuni taʼ snin...</td>\n",
       "    </tr>\n",
       "  </tbody>\n",
       "</table>\n",
       "</div>"
      ],
      "text/plain": [
       "    _batchNo  _block  _item  itemID itemType sourceID  \\\n",
       "75         1       7     75     322      TGT   src.en   \n",
       "84        13     128     84     363      TGT   src.en   \n",
       "8          5      40      8     283      BAD   src.en   \n",
       "82        13     128     82     390      TGT   src.en   \n",
       "47        15     144     47     216      TGT   src.en   \n",
       "\n",
       "                                           sourceText       targetID  \\\n",
       "75  Suits are standard business attire, and cowork...        kurt.mt   \n",
       "84                           Men are naturally timid.  etranslate.mt   \n",
       "8   With 17,000 islands to choose from, Indonesian...        nllb.mt   \n",
       "82  Several large television screens were installe...  etranslate.mt   \n",
       "47  Eventually, after thousands or even millions o...        nllb.mt   \n",
       "\n",
       "                                           targetText  \n",
       "75  suits huma attire tan-negozju standard, u l-ko...  \n",
       "84                  l-irġiel huma naturalment timida.  \n",
       "8   which extends beyond a traveller's previous il...  \n",
       "82  Diversi skrins tat-televiżjoni kbar ġew instal...  \n",
       "47  Fl- aħħar, wara eluf jew anke miljuni taʼ snin...  "
      ]
     },
     "execution_count": 44,
     "metadata": {},
     "output_type": "execute_result"
    }
   ],
   "source": [
    "df.sample(5, random_state=1)"
   ]
  },
  {
   "cell_type": "code",
   "execution_count": 45,
   "metadata": {},
   "outputs": [
    {
     "name": "stdout",
     "output_type": "stream",
     "text": [
      "identical hypotheses: 0\n"
     ]
    },
    {
     "data": {
      "text/html": [
       "<div>\n",
       "<style scoped>\n",
       "    .dataframe tbody tr th:only-of-type {\n",
       "        vertical-align: middle;\n",
       "    }\n",
       "\n",
       "    .dataframe tbody tr th {\n",
       "        vertical-align: top;\n",
       "    }\n",
       "\n",
       "    .dataframe thead th {\n",
       "        text-align: right;\n",
       "    }\n",
       "</style>\n",
       "<table border=\"1\" class=\"dataframe\">\n",
       "  <thead>\n",
       "    <tr style=\"text-align: right;\">\n",
       "      <th></th>\n",
       "      <th>_batchNo</th>\n",
       "      <th>_block</th>\n",
       "      <th>_item</th>\n",
       "      <th>itemID</th>\n",
       "      <th>itemType</th>\n",
       "      <th>sourceID</th>\n",
       "      <th>sourceText</th>\n",
       "      <th>targetID</th>\n",
       "      <th>targetText</th>\n",
       "    </tr>\n",
       "  </thead>\n",
       "  <tbody>\n",
       "  </tbody>\n",
       "</table>\n",
       "</div>"
      ],
      "text/plain": [
       "Empty DataFrame\n",
       "Columns: [_batchNo, _block, _item, itemID, itemType, sourceID, sourceText, targetID, targetText]\n",
       "Index: []"
      ]
     },
     "execution_count": 45,
     "metadata": {},
     "output_type": "execute_result"
    }
   ],
   "source": [
    "identical_hyps = df[df.targetID.apply(lambda id: \"+\" in id)]\n",
    "print(\"identical hypotheses:\", len(identical_hyps))\n",
    "identical_hyps"
   ]
  },
  {
   "cell_type": "code",
   "execution_count": 37,
   "metadata": {},
   "outputs": [
    {
     "name": "stdout",
     "output_type": "stream",
     "text": [
      "sourceID values: {'src.es'}\n"
     ]
    }
   ],
   "source": [
    "print(\"sourceID values:\", set(df.sourceID))\n",
    "assert len(set(df.sourceID)) == 1 # ? not sure"
   ]
  },
  {
   "cell_type": "code",
   "execution_count": 38,
   "metadata": {},
   "outputs": [
    {
     "name": "stdout",
     "output_type": "stream",
     "text": [
      "targetID values: ['cmbacktrans.eu', 'euskadi.eu', 'nllb.eu', 'ref.eu', 'cmbacktrans.eu+euskadi.eu']\n"
     ]
    }
   ],
   "source": [
    "print(\"targetID values:\", df.targetID.unique().tolist())"
   ]
  },
  {
   "cell_type": "code",
   "execution_count": 39,
   "metadata": {},
   "outputs": [
    {
     "name": "stdout",
     "output_type": "stream",
     "text": [
      "itemType values: {'TGT', 'REF', 'BAD'}\n",
      "value counts:\n",
      "TGT    1200\n",
      "BAD     150\n",
      "REF     150\n",
      "\n",
      "per batch:\n",
      "TGT    80\n",
      "BAD    10\n",
      "REF    10\n"
     ]
    }
   ],
   "source": [
    "print(\"itemType values:\", set(df.itemType))\n",
    "assert set(df.itemType) <= set([\"BAD\", \"CHK\", \"REF\", \"TGT\"])\n",
    "\n",
    "print(\"value counts:\")\n",
    "print(df.itemType.value_counts().to_string())\n",
    "print()\n",
    "\n",
    "print(\"per batch:\")\n",
    "_df = df[df._batchNo == 1]\n",
    "print(_df.itemType.value_counts().to_string())"
   ]
  }
 ],
 "metadata": {
  "kernelspec": {
   "display_name": "Python 3 (ipykernel)",
   "language": "python",
   "name": "python3"
  },
  "language_info": {
   "codemirror_mode": {
    "name": "ipython",
    "version": 3
   },
   "file_extension": ".py",
   "mimetype": "text/x-python",
   "name": "python",
   "nbconvert_exporter": "python",
   "pygments_lexer": "ipython3",
   "version": "3.10.6"
  },
  "orig_nbformat": 4
 },
 "nbformat": 4,
 "nbformat_minor": 2
}
