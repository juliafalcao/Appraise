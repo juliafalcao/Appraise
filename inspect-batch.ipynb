{
 "cells": [
  {
   "cell_type": "code",
   "execution_count": 1,
   "metadata": {},
   "outputs": [],
   "source": [
    "import sys\n",
    "sys.path.append(\"/home/juliafalcao\")\n",
    "sys.path.append(\"/home/juliafalcao/experiments\")\n",
    "\n",
    "from experiments.constants import * \n",
    "from experiments.utils import *\n",
    "\n",
    "import pandas as pd\n",
    "import json"
   ]
  },
  {
   "cell_type": "code",
   "execution_count": 2,
   "metadata": {},
   "outputs": [],
   "source": [
    "SRC, TGT = SPANISH, BASQUE"
   ]
  },
  {
   "cell_type": "code",
   "execution_count": 3,
   "metadata": {},
   "outputs": [],
   "source": [
    "# batches_filepath = f\"/netscratch/falcao/data/{SRC}-{TGT}/eval-set/batches.{SRC}-{TGT}.json\"\n",
    "batches_filepath = f\"/home/juliafalcao/thesis_data/{SRC}-{TGT}/batches.{SRC}-{TGT}.json\"\n",
    "with open(batches_filepath, mode=\"r\") as f:\n",
    "    j = json.load(f)"
   ]
  },
  {
   "cell_type": "code",
   "execution_count": 17,
   "metadata": {},
   "outputs": [],
   "source": [
    "ref_batches = []\n",
    "\n",
    "for i, batch in enumerate(j):\n",
    "    ref_batch = {\n",
    "        \"items\": [item for item in batch[\"items\"] if item[\"itemType\"] == \"REF\"],\n",
    "        \"task\": {\n",
    "            \"batchNo\": i+1,\n",
    "            \"batchSize\": 10,\n",
    "            \"randomSeed\": 123456,\n",
    "            \"requiredAnnotations\": 3,\n",
    "            \"sourceLanguage\": \"spa\",\n",
    "            \"targetLanguage\": \"eus\"\n",
    "        }\n",
    "    }\n",
    "\n",
    "    ref_batches.append(ref_batch)"
   ]
  },
  {
   "cell_type": "code",
   "execution_count": 27,
   "metadata": {},
   "outputs": [],
   "source": [
    "with open(f\"/home/juliafalcao/thesis_data/{SRC}-{TGT}/ref-batches.{SRC}-{TGT}.json\", mode=\"w+\") as f:\n",
    "    json.dump(ref_batches, f, indent=4)"
   ]
  },
  {
   "cell_type": "code",
   "execution_count": 4,
   "metadata": {},
   "outputs": [],
   "source": [
    "df_filepath = f\"/home/juliafalcao/thesis_data/{SRC}-{TGT}/df_eval.csv\"\n",
    "df_eval = pd.read_csv(df_filepath)"
   ]
  },
  {
   "cell_type": "code",
   "execution_count": 5,
   "metadata": {},
   "outputs": [],
   "source": [
    "dfs = []\n",
    "for batch_json in j:\n",
    "    _df = pd.DataFrame(batch_json[\"items\"])\n",
    "    _df[\"_batchNo\"] = batch_json[\"task\"][\"batchNo\"]\n",
    "    dfs.append(_df)\n",
    "\n",
    "df = pd.concat(dfs)\n",
    "df = df[[\"_batchNo\", *df.columns[:-1]]]"
   ]
  },
  {
   "cell_type": "code",
   "execution_count": 6,
   "metadata": {},
   "outputs": [
    {
     "name": "stdout",
     "output_type": "stream",
     "text": [
      "total items: 1500\n"
     ]
    }
   ],
   "source": [
    "print(\"total items:\", len(df))"
   ]
  },
  {
   "cell_type": "code",
   "execution_count": 7,
   "metadata": {},
   "outputs": [
    {
     "data": {
      "text/plain": [
       "1500"
      ]
     },
     "execution_count": 7,
     "metadata": {},
     "output_type": "execute_result"
    }
   ],
   "source": [
    "len(df)"
   ]
  },
  {
   "cell_type": "code",
   "execution_count": 9,
   "metadata": {},
   "outputs": [
    {
     "data": {
      "text/html": [
       "<div>\n",
       "<style scoped>\n",
       "    .dataframe tbody tr th:only-of-type {\n",
       "        vertical-align: middle;\n",
       "    }\n",
       "\n",
       "    .dataframe tbody tr th {\n",
       "        vertical-align: top;\n",
       "    }\n",
       "\n",
       "    .dataframe thead th {\n",
       "        text-align: right;\n",
       "    }\n",
       "</style>\n",
       "<table border=\"1\" class=\"dataframe\">\n",
       "  <thead>\n",
       "    <tr style=\"text-align: right;\">\n",
       "      <th></th>\n",
       "      <th>_batchNo</th>\n",
       "      <th>_block</th>\n",
       "      <th>_item</th>\n",
       "      <th>itemID</th>\n",
       "      <th>itemType</th>\n",
       "      <th>sourceID</th>\n",
       "      <th>sourceText</th>\n",
       "      <th>targetID</th>\n",
       "      <th>targetText</th>\n",
       "    </tr>\n",
       "  </thead>\n",
       "  <tbody>\n",
       "    <tr>\n",
       "      <th>20</th>\n",
       "      <td>1</td>\n",
       "      <td>2</td>\n",
       "      <td>20</td>\n",
       "      <td>12</td>\n",
       "      <td>REF</td>\n",
       "      <td>src.es</td>\n",
       "      <td>Un autor debe ser real en el tratamiento de su...</td>\n",
       "      <td>ref.eu</td>\n",
       "      <td>Egileak egiazkotasuna bilatu behar du bere gai...</td>\n",
       "    </tr>\n",
       "    <tr>\n",
       "      <th>24</th>\n",
       "      <td>1</td>\n",
       "      <td>2</td>\n",
       "      <td>24</td>\n",
       "      <td>233</td>\n",
       "      <td>REF</td>\n",
       "      <td>src.es</td>\n",
       "      <td>Mientras otras especies están confinadas a lug...</td>\n",
       "      <td>ref.eu</td>\n",
       "      <td>Orain beste espezie batzuk beren geneek egokit...</td>\n",
       "    </tr>\n",
       "    <tr>\n",
       "      <th>38</th>\n",
       "      <td>1</td>\n",
       "      <td>3</td>\n",
       "      <td>38</td>\n",
       "      <td>78</td>\n",
       "      <td>REF</td>\n",
       "      <td>src.es</td>\n",
       "      <td>Los artículos demandaban la aprobación unánime...</td>\n",
       "      <td>ref.eu</td>\n",
       "      <td>Estatu guztien onespen bateratua behar zuten a...</td>\n",
       "    </tr>\n",
       "    <tr>\n",
       "      <th>44</th>\n",
       "      <td>1</td>\n",
       "      <td>4</td>\n",
       "      <td>44</td>\n",
       "      <td>334</td>\n",
       "      <td>REF</td>\n",
       "      <td>src.es</td>\n",
       "      <td>En los años ochenta un gran número de empresas...</td>\n",
       "      <td>ref.eu</td>\n",
       "      <td>80 hamarkadan enpresa lehiakide asko merkatuan...</td>\n",
       "    </tr>\n",
       "    <tr>\n",
       "      <th>46</th>\n",
       "      <td>1</td>\n",
       "      <td>4</td>\n",
       "      <td>46</td>\n",
       "      <td>53</td>\n",
       "      <td>REF</td>\n",
       "      <td>src.es</td>\n",
       "      <td>Yo... yo no las puedo comprar porque mi novia ...</td>\n",
       "      <td>ref.eu</td>\n",
       "      <td>Nik... ezin ditut erosi nire neska begetariano...</td>\n",
       "    </tr>\n",
       "    <tr>\n",
       "      <th>...</th>\n",
       "      <td>...</td>\n",
       "      <td>...</td>\n",
       "      <td>...</td>\n",
       "      <td>...</td>\n",
       "      <td>...</td>\n",
       "      <td>...</td>\n",
       "      <td>...</td>\n",
       "      <td>...</td>\n",
       "      <td>...</td>\n",
       "    </tr>\n",
       "    <tr>\n",
       "      <th>60</th>\n",
       "      <td>15</td>\n",
       "      <td>146</td>\n",
       "      <td>60</td>\n",
       "      <td>116</td>\n",
       "      <td>REF</td>\n",
       "      <td>src.es</td>\n",
       "      <td>El problema radica en que la nieve es pegajosa...</td>\n",
       "      <td>ref.eu</td>\n",
       "      <td>Elurra itsaskorra delako sortzen da arazoa, er...</td>\n",
       "    </tr>\n",
       "    <tr>\n",
       "      <th>61</th>\n",
       "      <td>15</td>\n",
       "      <td>146</td>\n",
       "      <td>61</td>\n",
       "      <td>214</td>\n",
       "      <td>REF</td>\n",
       "      <td>src.es</td>\n",
       "      <td>Viajar en avión puede generar miedo en persona...</td>\n",
       "      <td>ref.eu</td>\n",
       "      <td>Hegazkinez bidaiatzea beldurgarria suerta daki...</td>\n",
       "    </tr>\n",
       "    <tr>\n",
       "      <th>74</th>\n",
       "      <td>15</td>\n",
       "      <td>147</td>\n",
       "      <td>74</td>\n",
       "      <td>399</td>\n",
       "      <td>REF</td>\n",
       "      <td>src.es</td>\n",
       "      <td>Cruza la línea de lo real y lo irreal mientras...</td>\n",
       "      <td>ref.eu</td>\n",
       "      <td>Jokoa aurrera doan eeinean errealitatea eta ir...</td>\n",
       "    </tr>\n",
       "    <tr>\n",
       "      <th>84</th>\n",
       "      <td>15</td>\n",
       "      <td>148</td>\n",
       "      <td>84</td>\n",
       "      <td>292</td>\n",
       "      <td>REF</td>\n",
       "      <td>src.es</td>\n",
       "      <td>Algo muy interesante está pasando aquí en la c...</td>\n",
       "      <td>ref.eu</td>\n",
       "      <td>Zerbait oso interesgarria gertatzen da zirkunb...</td>\n",
       "    </tr>\n",
       "    <tr>\n",
       "      <th>87</th>\n",
       "      <td>15</td>\n",
       "      <td>148</td>\n",
       "      <td>87</td>\n",
       "      <td>326</td>\n",
       "      <td>REF</td>\n",
       "      <td>src.es</td>\n",
       "      <td>A despecho de aquella paciente monotonía, exis...</td>\n",
       "      <td>ref.eu</td>\n",
       "      <td>Itxurazko monotonia hura gorabehera, gure herr...</td>\n",
       "    </tr>\n",
       "  </tbody>\n",
       "</table>\n",
       "<p>150 rows × 9 columns</p>\n",
       "</div>"
      ],
      "text/plain": [
       "    _batchNo  _block  _item  itemID itemType sourceID  \\\n",
       "20         1       2     20      12      REF   src.es   \n",
       "24         1       2     24     233      REF   src.es   \n",
       "38         1       3     38      78      REF   src.es   \n",
       "44         1       4     44     334      REF   src.es   \n",
       "46         1       4     46      53      REF   src.es   \n",
       "..       ...     ...    ...     ...      ...      ...   \n",
       "60        15     146     60     116      REF   src.es   \n",
       "61        15     146     61     214      REF   src.es   \n",
       "74        15     147     74     399      REF   src.es   \n",
       "84        15     148     84     292      REF   src.es   \n",
       "87        15     148     87     326      REF   src.es   \n",
       "\n",
       "                                           sourceText targetID  \\\n",
       "20  Un autor debe ser real en el tratamiento de su...   ref.eu   \n",
       "24  Mientras otras especies están confinadas a lug...   ref.eu   \n",
       "38  Los artículos demandaban la aprobación unánime...   ref.eu   \n",
       "44  En los años ochenta un gran número de empresas...   ref.eu   \n",
       "46  Yo... yo no las puedo comprar porque mi novia ...   ref.eu   \n",
       "..                                                ...      ...   \n",
       "60  El problema radica en que la nieve es pegajosa...   ref.eu   \n",
       "61  Viajar en avión puede generar miedo en persona...   ref.eu   \n",
       "74  Cruza la línea de lo real y lo irreal mientras...   ref.eu   \n",
       "84  Algo muy interesante está pasando aquí en la c...   ref.eu   \n",
       "87  A despecho de aquella paciente monotonía, exis...   ref.eu   \n",
       "\n",
       "                                           targetText  \n",
       "20  Egileak egiazkotasuna bilatu behar du bere gai...  \n",
       "24  Orain beste espezie batzuk beren geneek egokit...  \n",
       "38  Estatu guztien onespen bateratua behar zuten a...  \n",
       "44  80 hamarkadan enpresa lehiakide asko merkatuan...  \n",
       "46  Nik... ezin ditut erosi nire neska begetariano...  \n",
       "..                                                ...  \n",
       "60  Elurra itsaskorra delako sortzen da arazoa, er...  \n",
       "61  Hegazkinez bidaiatzea beldurgarria suerta daki...  \n",
       "74  Jokoa aurrera doan eeinean errealitatea eta ir...  \n",
       "84  Zerbait oso interesgarria gertatzen da zirkunb...  \n",
       "87  Itxurazko monotonia hura gorabehera, gure herr...  \n",
       "\n",
       "[150 rows x 9 columns]"
      ]
     },
     "execution_count": 9,
     "metadata": {},
     "output_type": "execute_result"
    }
   ],
   "source": [
    "df[(df.itemType == \"REF\")]"
   ]
  },
  {
   "cell_type": "code",
   "execution_count": 25,
   "metadata": {},
   "outputs": [
    {
     "data": {
      "text/plain": [
       "300"
      ]
     },
     "execution_count": 25,
     "metadata": {},
     "output_type": "execute_result"
    }
   ],
   "source": [
    "len(df[df.itemType != \"TGT\"])"
   ]
  },
  {
   "cell_type": "code",
   "execution_count": 16,
   "metadata": {},
   "outputs": [
    {
     "data": {
      "text/html": [
       "<div>\n",
       "<style scoped>\n",
       "    .dataframe tbody tr th:only-of-type {\n",
       "        vertical-align: middle;\n",
       "    }\n",
       "\n",
       "    .dataframe tbody tr th {\n",
       "        vertical-align: top;\n",
       "    }\n",
       "\n",
       "    .dataframe thead th {\n",
       "        text-align: right;\n",
       "    }\n",
       "</style>\n",
       "<table border=\"1\" class=\"dataframe\">\n",
       "  <thead>\n",
       "    <tr style=\"text-align: right;\">\n",
       "      <th></th>\n",
       "      <th>_batchNo</th>\n",
       "      <th>_block</th>\n",
       "      <th>_item</th>\n",
       "      <th>itemID</th>\n",
       "      <th>itemType</th>\n",
       "      <th>sourceID</th>\n",
       "      <th>sourceText</th>\n",
       "      <th>targetID</th>\n",
       "      <th>targetText</th>\n",
       "    </tr>\n",
       "  </thead>\n",
       "  <tbody>\n",
       "    <tr>\n",
       "      <th>91</th>\n",
       "      <td>1</td>\n",
       "      <td>9</td>\n",
       "      <td>91</td>\n",
       "      <td>292</td>\n",
       "      <td>TGT</td>\n",
       "      <td>src.en</td>\n",
       "      <td>She always took care of the yard work herself....</td>\n",
       "      <td>gtrans.mt</td>\n",
       "      <td>Dejjem kienet tieħu ħsieb ix-xogħol tal-bitħa ...</td>\n",
       "    </tr>\n",
       "    <tr>\n",
       "      <th>75</th>\n",
       "      <td>1</td>\n",
       "      <td>7</td>\n",
       "      <td>75</td>\n",
       "      <td>323</td>\n",
       "      <td>TGT</td>\n",
       "      <td>src.en</td>\n",
       "      <td>He already knows the language quite well but h...</td>\n",
       "      <td>kurt.mt</td>\n",
       "      <td>huwa diġà jaf il-lingwa b'mod pjuttost tajjeb ...</td>\n",
       "    </tr>\n",
       "    <tr>\n",
       "      <th>64</th>\n",
       "      <td>13</td>\n",
       "      <td>126</td>\n",
       "      <td>64</td>\n",
       "      <td>87</td>\n",
       "      <td>TGT</td>\n",
       "      <td>src.en</td>\n",
       "      <td>Over multiple centuries, the Roman empire led ...</td>\n",
       "      <td>nllb.mt</td>\n",
       "      <td>Matul bosta sekli, l- Imperu Rumanu wassal għa...</td>\n",
       "    </tr>\n",
       "    <tr>\n",
       "      <th>30</th>\n",
       "      <td>4</td>\n",
       "      <td>33</td>\n",
       "      <td>30</td>\n",
       "      <td>94</td>\n",
       "      <td>REF</td>\n",
       "      <td>src.en</td>\n",
       "      <td>Proper nutritional practices alone cannot gene...</td>\n",
       "      <td>ref.mt</td>\n",
       "      <td>Prattiċi nutrittivi korretti waħedhom ma jistg...</td>\n",
       "    </tr>\n",
       "    <tr>\n",
       "      <th>49</th>\n",
       "      <td>14</td>\n",
       "      <td>134</td>\n",
       "      <td>49</td>\n",
       "      <td>106</td>\n",
       "      <td>TGT</td>\n",
       "      <td>src.en</td>\n",
       "      <td>Its frequent portrayal in music, films, litera...</td>\n",
       "      <td>nllb.mt</td>\n",
       "      <td>Ir-ritratt frekwenti tagħha fil-mużika, fil-fi...</td>\n",
       "    </tr>\n",
       "  </tbody>\n",
       "</table>\n",
       "</div>"
      ],
      "text/plain": [
       "    _batchNo  _block  _item  itemID itemType sourceID  \\\n",
       "91         1       9     91     292      TGT   src.en   \n",
       "75         1       7     75     323      TGT   src.en   \n",
       "64        13     126     64      87      TGT   src.en   \n",
       "30         4      33     30      94      REF   src.en   \n",
       "49        14     134     49     106      TGT   src.en   \n",
       "\n",
       "                                           sourceText   targetID  \\\n",
       "91  She always took care of the yard work herself....  gtrans.mt   \n",
       "75  He already knows the language quite well but h...    kurt.mt   \n",
       "64  Over multiple centuries, the Roman empire led ...    nllb.mt   \n",
       "30  Proper nutritional practices alone cannot gene...     ref.mt   \n",
       "49  Its frequent portrayal in music, films, litera...    nllb.mt   \n",
       "\n",
       "                                           targetText  \n",
       "91  Dejjem kienet tieħu ħsieb ix-xogħol tal-bitħa ...  \n",
       "75  huwa diġà jaf il-lingwa b'mod pjuttost tajjeb ...  \n",
       "64  Matul bosta sekli, l- Imperu Rumanu wassal għa...  \n",
       "30  Prattiċi nutrittivi korretti waħedhom ma jistg...  \n",
       "49  Ir-ritratt frekwenti tagħha fil-mużika, fil-fi...  "
      ]
     },
     "execution_count": 16,
     "metadata": {},
     "output_type": "execute_result"
    }
   ],
   "source": [
    "df.sample(5, random_state=1)"
   ]
  },
  {
   "cell_type": "code",
   "execution_count": 45,
   "metadata": {},
   "outputs": [
    {
     "name": "stdout",
     "output_type": "stream",
     "text": [
      "identical hypotheses: 0\n"
     ]
    },
    {
     "data": {
      "text/html": [
       "<div>\n",
       "<style scoped>\n",
       "    .dataframe tbody tr th:only-of-type {\n",
       "        vertical-align: middle;\n",
       "    }\n",
       "\n",
       "    .dataframe tbody tr th {\n",
       "        vertical-align: top;\n",
       "    }\n",
       "\n",
       "    .dataframe thead th {\n",
       "        text-align: right;\n",
       "    }\n",
       "</style>\n",
       "<table border=\"1\" class=\"dataframe\">\n",
       "  <thead>\n",
       "    <tr style=\"text-align: right;\">\n",
       "      <th></th>\n",
       "      <th>_batchNo</th>\n",
       "      <th>_block</th>\n",
       "      <th>_item</th>\n",
       "      <th>itemID</th>\n",
       "      <th>itemType</th>\n",
       "      <th>sourceID</th>\n",
       "      <th>sourceText</th>\n",
       "      <th>targetID</th>\n",
       "      <th>targetText</th>\n",
       "    </tr>\n",
       "  </thead>\n",
       "  <tbody>\n",
       "  </tbody>\n",
       "</table>\n",
       "</div>"
      ],
      "text/plain": [
       "Empty DataFrame\n",
       "Columns: [_batchNo, _block, _item, itemID, itemType, sourceID, sourceText, targetID, targetText]\n",
       "Index: []"
      ]
     },
     "execution_count": 45,
     "metadata": {},
     "output_type": "execute_result"
    }
   ],
   "source": [
    "identical_hyps = df[df.targetID.apply(lambda id: \"+\" in id)]\n",
    "print(\"identical hypotheses:\", len(identical_hyps))\n",
    "identical_hyps"
   ]
  },
  {
   "cell_type": "code",
   "execution_count": 37,
   "metadata": {},
   "outputs": [
    {
     "name": "stdout",
     "output_type": "stream",
     "text": [
      "sourceID values: {'src.es'}\n"
     ]
    }
   ],
   "source": [
    "print(\"sourceID values:\", set(df.sourceID))\n",
    "assert len(set(df.sourceID)) == 1 # ? not sure"
   ]
  },
  {
   "cell_type": "code",
   "execution_count": 38,
   "metadata": {},
   "outputs": [
    {
     "name": "stdout",
     "output_type": "stream",
     "text": [
      "targetID values: ['cmbacktrans.eu', 'euskadi.eu', 'nllb.eu', 'ref.eu', 'cmbacktrans.eu+euskadi.eu']\n"
     ]
    }
   ],
   "source": [
    "print(\"targetID values:\", df.targetID.unique().tolist())"
   ]
  },
  {
   "cell_type": "code",
   "execution_count": 39,
   "metadata": {},
   "outputs": [
    {
     "name": "stdout",
     "output_type": "stream",
     "text": [
      "itemType values: {'TGT', 'REF', 'BAD'}\n",
      "value counts:\n",
      "TGT    1200\n",
      "BAD     150\n",
      "REF     150\n",
      "\n",
      "per batch:\n",
      "TGT    80\n",
      "BAD    10\n",
      "REF    10\n"
     ]
    }
   ],
   "source": [
    "print(\"itemType values:\", set(df.itemType))\n",
    "assert set(df.itemType) <= set([\"BAD\", \"CHK\", \"REF\", \"TGT\"])\n",
    "\n",
    "print(\"value counts:\")\n",
    "print(df.itemType.value_counts().to_string())\n",
    "print()\n",
    "\n",
    "print(\"per batch:\")\n",
    "_df = df[df._batchNo == 1]\n",
    "print(_df.itemType.value_counts().to_string())"
   ]
  }
 ],
 "metadata": {
  "kernelspec": {
   "display_name": "Python 3 (ipykernel)",
   "language": "python",
   "name": "python3"
  },
  "language_info": {
   "codemirror_mode": {
    "name": "ipython",
    "version": 3
   },
   "file_extension": ".py",
   "mimetype": "text/x-python",
   "name": "python",
   "nbconvert_exporter": "python",
   "pygments_lexer": "ipython3",
   "version": "3.8.10"
  },
  "orig_nbformat": 4
 },
 "nbformat": 4,
 "nbformat_minor": 2
}
