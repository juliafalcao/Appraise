{
 "cells": [
  {
   "cell_type": "code",
   "execution_count": 32,
   "metadata": {},
   "outputs": [],
   "source": [
    "import sys\n",
    "sys.path.append(\"..\")\n",
    "sys.path.append(\"../experiments\")\n",
    "\n",
    "from experiments.constants import * \n",
    "from experiments.utils import *\n",
    "\n",
    "from random import randint\n",
    "from collections import OrderedDict\n",
    "import json"
   ]
  },
  {
   "cell_type": "code",
   "execution_count": 33,
   "metadata": {},
   "outputs": [],
   "source": [
    "SRC, TGT = SPANISH, BASQUE\n",
    "LP_FOLDER = f\"/netscratch/falcao/data/appraise-batches/{SRC}-{TGT}\""
   ]
  },
  {
   "attachments": {},
   "cell_type": "markdown",
   "metadata": {},
   "source": [
    "## Create batches"
   ]
  },
  {
   "cell_type": "code",
   "execution_count": 34,
   "metadata": {},
   "outputs": [],
   "source": [
    "# configurations\n",
    "_task_definition = OrderedDict({\n",
    "    \"TGT\": 80,\n",
    "    \"CHK\": 0,\n",
    "    \"REF\": 10,\n",
    "    \"BAD\": 10,\n",
    "})\n",
    "\n",
    "BATCHES_FILENAME = \"batches.json\""
   ]
  },
  {
   "cell_type": "code",
   "execution_count": 35,
   "metadata": {},
   "outputs": [],
   "source": [
    "TASK_DEFINITION = \":\".join(map(str, _task_definition.values()))\n",
    "SRC_FILE = f\"{LP_FOLDER}/src.{SRC}\"\n",
    "REF_FILE = f\"{LP_FOLDER}/ref.{TGT}\"\n",
    "SYSTEMS_FOLDER = f\"{LP_FOLDER}/systems/\"\n",
    "BATCHES_PATH = f\"{LP_FOLDER}/{BATCHES_FILENAME}\""
   ]
  },
  {
   "cell_type": "code",
   "execution_count": 36,
   "metadata": {},
   "outputs": [
    {
     "name": "stdout",
     "output_type": "stream",
     "text": [
      "python manage.py CreateDirectAssessmentData 100 spa eus /netscratch/falcao/data/appraise-batches/es-eu/src.es /netscratch/falcao/data/appraise-batches/es-eu/ref.eu /netscratch/falcao/data/appraise-batches/es-eu/systems/ /netscratch/falcao/data/appraise-batches/es-eu/batches.json --task-definition 80:0:10:10 --required-annotations 3 --source-based --create-ids --all-batches\n"
     ]
    }
   ],
   "source": [
    "# call the command from bash but using variables set in Python\n",
    "! echo python manage.py CreateDirectAssessmentData \\\n",
    "    100 \\\n",
    "    $SRC.code3 \\\n",
    "    $TGT.code3 \\\n",
    "    $LP_FOLDER/src.$SRC \\\n",
    "    $LP_FOLDER/ref.$TGT \\\n",
    "    $SYSTEMS_FOLDER \\\n",
    "    $BATCHES_PATH \\\n",
    "    --task-definition $TASK_DEFINITION \\\n",
    "    --required-annotations 3 \\\n",
    "    --source-based \\\n",
    "    --create-ids \\\n",
    "    --all-batches"
   ]
  },
  {
   "attachments": {},
   "cell_type": "markdown",
   "metadata": {},
   "source": [
    "## Create campaign"
   ]
  },
  {
   "cell_type": "code",
   "execution_count": 37,
   "metadata": {},
   "outputs": [],
   "source": [
    "# configuration\n",
    "CAMPAIGN_NAME = \"test1annotation\""
   ]
  },
  {
   "cell_type": "code",
   "execution_count": 52,
   "metadata": {},
   "outputs": [],
   "source": [
    "manifest = {\n",
    "    \"CAMPAIGN_URL\": \"http://127.0.0.1:8000/dashboard/sso/\",\n",
    "    \"CAMPAIGN_NAME\": CAMPAIGN_NAME,\n",
    "    \"CAMPAIGN_KEY\": CAMPAIGN_NAME,\n",
    "    \"CAMPAIGN_NO\": randint(0,100),\n",
    "    \"REDUNDANCY\": 1,\n",
    "\n",
    "    \"TASKS_TO_ANNOTATORS\": [\n",
    "        [ SRC.code3, TGT.code3, \"uniform\", 1, 1 ]\n",
    "    ]\n",
    "}\n"
   ]
  },
  {
   "cell_type": "code",
   "execution_count": 54,
   "metadata": {},
   "outputs": [],
   "source": [
    "assert type(manifest[\"TASKS_TO_ANNOTATORS\"]) == list and type(manifest[\"TASKS_TO_ANNOTATORS\"][0]) == list"
   ]
  },
  {
   "cell_type": "code",
   "execution_count": 55,
   "metadata": {},
   "outputs": [],
   "source": [
    "MANIFEST_PATH = f\"{LP_FOLDER}/manifest.json\"\n",
    "\n",
    "with open(manifest_path, mode=\"w+\") as f:\n",
    "    json.dump(manifest, f, indent=4)"
   ]
  },
  {
   "cell_type": "code",
   "execution_count": 56,
   "metadata": {},
   "outputs": [
    {
     "name": "stdout",
     "output_type": "stream",
     "text": [
      "JSON manifest path: '/netscratch/falcao/data/appraise-batches/es-eu/manifest.json'\n",
      "CSV output path: None\n",
      "Excel output path: None\n",
      "No task type found in the manifest file, assuming it is \"Direct\". If this is incorrect, define \"TASK_TYPE\" in the manifest file.\n",
      "### Running InitCampaign\n",
      "All languages: [('spa', 'eus')]\n",
      "Identified superuser: falcao\n",
      "Processed Market/Metadata instances\n",
      "### Creating a new campaign\n",
      "- '/netscratch/falcao/data/appraise-batches/es-eu/batches.json'\n",
      "Batch: /netscratch/falcao/data/appraise-batches/es-eu/batches.json\n",
      "  Market: spa_eus_test1annotation\n",
      "  Metadata: spa->eus/test1annotation[\"1.0\"]\n",
      "Uploaded file name: Batches/batches_Cw025AV.json\n",
      "Campaign name: test1annotation\n",
      "### Running validatecampaigndata\n",
      "Campaign name: test1annotation\n",
      "Batch name: Batches/batches_Cw025AV.json\n",
      "Validated 1 batches\n",
      "### Running ProcessCampaignData\n",
      "Batches/batches_Cw025AV.json 1\n",
      "15 gtrans-fake.txt\n",
      "195 b'[gtrans] Goizeko lehen orduan anaiak agertu ziren duin-itxurak eginez, tronpeta erlastuen zarataz inguraturik, eta beren konkistetan botikak pixkanaka kendu, eta psikiatriara bueltatu lagundurik.'\n",
      "16 mstrans-fake.txt\n",
      "198 b'[mstrans] Euria jausten bada zuhaitzik ez dagoen lekuan, minutu gutxi barru, ura ibaira heltzen da, lurra darama, ur iturburua suntsitzen du, ibaiak suntsitzen ditu, ez dago hezetasuna non atxikitu.'\n",
      "267 b'[mstrans] Aste osoan zehar, 6 eta 14 urte bitarteko ume guztiek, bazkide direnek zein ez direnek, hainbat jarduerez gozatu ahal izan zuten: txirrista puzgarriak, billar-zonak, mahai-futbola, joko anitzeko mahaiak, scalextric-a, moto elektrikoak eta askoz ere gehiago.'\n",
      "315 b'[gtrans] StoryofStuff.org -en aldaketa egile mota hauek azter ditzakezu eta zure lehenengo eta hurrengoko pausoak aurkitu. Herritar arduratsua izateko, bozkatzen hasi hori da oinarrizkoetako bat, denok egin beharrekoa. Baina zirraragarriagoa da geure gaitasunak eta interesak besteontzako lanean jartzen ditugunean.'\n",
      "Batches/batches_Cw025AV.json 2\n",
      "Batches/batches_Cw025AV.json 3\n",
      "Batches/batches_Cw025AV.json 4\n",
      "316 b'[mstrans] StoryofStuff.org -en aldaketa egile mota hauek azter ditzakezu eta zure lehenengo eta hurrengoko pausoak aurkitu. Herritar arduratsua izateko, bozkatzen hasi hori da oinarrizkoetako bat, denok egin beharrekoa. Baina zirraragarriagoa da geure gaitasunak eta interesak besteontzako lanean jartzen ditugunean.'\n",
      "Batches/batches_Cw025AV.json 5\n",
      "Batches/batches_Cw025AV.json 6\n",
      "Batches/batches_Cw025AV.json 7\n",
      "328 b'[gtrans] Ez dakit, ez dago besterik. Hasieran, duela hamar urte hasi zirenak mugimenduan komunikazioan lanetan kartelgintzan, eskuzko lanekin eta hasi ziren, eta gaur egun beste tresna batzuk daude, teknologiak aurrera egin du eta sare sozialak, aplikazioak, zuzeneko jarraipenak, argazki galeriak, bideoak... erabiltzen ditugu.'\n",
      "329 b'[mstrans] Ez dakit, ez dago besterik. Hasieran, duela hamar urte hasi zirenak mugimenduan komunikazioan lanetan kartelgintzan, eskuzko lanekin eta hasi ziren, eta gaur egun beste tresna batzuk daude, teknologiak aurrera egin du eta sare sozialak, aplikazioak, zuzeneko jarraipenak, argazki galeriak, bideoak... erabiltzen ditugu.'\n",
      "Batches/batches_Cw025AV.json 8\n",
      "0:00:00.509692\n",
      "Campaign activated\n",
      "### Running UpdateEvalDataModels\n",
      "\n",
      "[UpdateEvalDataModels.py]\n",
      "\n",
      "\n",
      "[INIT]\n",
      "\n",
      "Processing DirectAssessmentTask/DirectAssessmentResult/TextPair\n",
      "  Processed DirectAssessmentResult instances 0:00:00.002531\n",
      "  Identified bad DirectAssessmentResult instances 0\n",
      "  Processed DirectAssessmentTask instances 0:00:00.002807\n",
      "  Processed TextPair instances 0:00:00.011610\n",
      "  Processed related DirectAssessmentTask instances 0:00:00.006152\n",
      "Processing DirectAssessmentContextTask/DirectAssessmentContextResult/TextPairWithContext\n",
      "  Processed DirectAssessmentContextResult instances 0:00:00.002790\n",
      "  Identified bad DirectAssessmentContextResult instances 0\n",
      "  Processed DirectAssessmentContextTask instances 0:00:00.003035\n",
      "  Processed TextPairWithContext instances 0:00:00.003085\n",
      "  Processed related DirectAssessmentContextTask instances 0:00:00.003060\n",
      "Processing DirectAssessmentDocumentTask/DirectAssessmentDocumentResult/TextPairWithContext\n",
      "  Processed DirectAssessmentDocumentResult instances 0:00:00.002638\n",
      "  Identified bad DirectAssessmentDocumentResult instances 0\n",
      "  Processed DirectAssessmentDocumentTask instances 0:00:00.002609\n",
      "  Processed TextPairWithContext instances 0:00:00.002646\n",
      "  Processed related DirectAssessmentDocumentTask instances 0:00:00.002939\n",
      "Processing MultiModalAssessmentTask/MultiModalAssessmentResult/TextPairWithImage\n",
      "  Processed MultiModalAssessmentResult instances 0:00:00.002542\n",
      "  Identified bad MultiModalAssessmentResult instances 0\n",
      "  Processed MultiModalAssessmentTask instances 0:00:00.002599\n",
      "  Processed TextPairWithImage instances 0:00:00.003205\n",
      "  Processed related MultiModalAssessmentTask instances 0:00:00.002989\n",
      "Processing PairwiseAssessmentTask/PairwiseAssessmentResult/TextSegmentWithTwoTargets\n",
      "  Processed PairwiseAssessmentResult instances 0:00:00.002450\n",
      "  Identified bad PairwiseAssessmentResult instances 0\n",
      "  Processed PairwiseAssessmentTask instances 0:00:00.002729\n",
      "  Processed TextSegmentWithTwoTargets instances 0:00:00.002783\n",
      "  Processed related PairwiseAssessmentTask instances 0:00:00.002940\n",
      "Processing PairwiseAssessmentDocumentTask/PairwiseAssessmentDocumentResult/TextSegmentWithTwoTargetsWithContext\n",
      "  Processed PairwiseAssessmentDocumentResult instances 0:00:00.002490\n",
      "  Identified bad PairwiseAssessmentDocumentResult instances 0\n",
      "  Processed PairwiseAssessmentDocumentTask instances 0:00:00.002599\n",
      "  Processed TextSegmentWithTwoTargetsWithContext instances 0:00:00.002747\n",
      "  Processed related PairwiseAssessmentDocumentTask instances 0:00:00.002912\n",
      "Processing DataAssessmentTask/DataAssessmentResult/TextPairWithDomain\n",
      "  Processed DataAssessmentResult instances 0:00:00.002472\n",
      "  Identified bad DataAssessmentResult instances 0\n",
      "  Processed DataAssessmentTask instances 0:00:00.002785\n",
      "  Processed TextPairWithDomain instances 0:00:00.002583\n",
      "  Processed related DataAssessmentTask instances 0:00:00.003252\n",
      "Processed MultiModalAssessmentTask instances 0:00:00.002262\n",
      "Processed TextPairWithImage instances 0:00:00.002872\n",
      "Processed related MultiModalAssessmentTask instances 0:00:00.002654\n",
      "\n",
      "[DONE]\n",
      "\n",
      "### Running init_campaign again\n",
      "All languages: [('spa', 'eus')]\n",
      "Identified superuser: falcao\n",
      "Processed Market/Metadata instances\n",
      "Done.\n"
     ]
    }
   ],
   "source": [
    "! python manage.py StartNewCampaign \\\n",
    "    $MANIFEST_PATH \\\n",
    "    --batches-json $BATCHES_PATH"
   ]
  }
 ],
 "metadata": {
  "kernelspec": {
   "display_name": "Python 3 (ipykernel)",
   "language": "python",
   "name": "python3"
  },
  "language_info": {
   "codemirror_mode": {
    "name": "ipython",
    "version": 3
   },
   "file_extension": ".py",
   "mimetype": "text/x-python",
   "name": "python",
   "nbconvert_exporter": "python",
   "pygments_lexer": "ipython3",
   "version": "3.10.6"
  },
  "orig_nbformat": 4
 },
 "nbformat": 4,
 "nbformat_minor": 2
}
